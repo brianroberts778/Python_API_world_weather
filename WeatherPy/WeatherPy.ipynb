{
 "cells": [
  {
   "cell_type": "markdown",
   "metadata": {},
   "source": [
    "# Initial Toolkit Setup"
   ]
  },
  {
   "cell_type": "code",
   "execution_count": 18,
   "metadata": {},
   "outputs": [],
   "source": [
    "# Import Dependencies \n",
    "import requests\n",
    "import time\n",
    "import pandas as pd\n",
    "import matplotlib as plt\n",
    "import numpy as np\n",
    "\n",
    "# Import OpenWeatherMap API Key\n",
    "from config import api_key\n",
    "\n",
    "# Import Citipy Library\n",
    "from citipy import citipy\n",
    "\n",
    "# Create Base URL with proper units\n",
    "base_url = \"http://api.openweathermap.org/data/2.5/weather?units=imperial&q=\""
   ]
  },
  {
   "cell_type": "markdown",
   "metadata": {},
   "source": [
    "# Generate List of Global Cities for Analysis"
   ]
  },
  {
   "cell_type": "code",
   "execution_count": 19,
   "metadata": {},
   "outputs": [
    {
     "name": "stdout",
     "output_type": "stream",
     "text": [
      "547\n",
      "547\n"
     ]
    }
   ],
   "source": [
    "# Create lists to hold City Names, Country Names, and Coordinates(Lat/Lng)\n",
    "city_list = []\n",
    "country_list = []\n",
    "lat_lng_list = []\n",
    "\n",
    "# Create a set of random coordinates \n",
    "lat = np.random.uniform(low=-90, high=90, size=1200)\n",
    "lng = np.random.uniform(low=-180, high=180, size=1200)\n",
    "\n",
    "# Use the zip function to pair random lats and lngs\n",
    "lat_lng_list = zip(lat, lng)\n",
    "\n",
    "# Use Citipy Library to pair coordinates with nearby cities\n",
    "for lat_lng in lat_lng_list:\n",
    "    city = citipy.nearest_city(lat_lng[0], lat_lng[1]).city_name\n",
    "    country = citipy.nearest_city(lat_lng[0], lat_lng[1]).country_code\n",
    "    \n",
    "    # If the city is unique, add it to our list (@ top of the cell)\n",
    "    if city not in city_list:\n",
    "        city_list.append(city)\n",
    "        country_list.append(country)\n",
    "        \n",
    "# Print both the city and country lists to confirm sample size is >= 500\n",
    "# These values should be equal\n",
    "print(len(city_list))\n",
    "print(len(country_list))"
   ]
  },
  {
   "cell_type": "markdown",
   "metadata": {},
   "source": [
    "# Create DataFrame "
   ]
  },
  {
   "cell_type": "code",
   "execution_count": 23,
   "metadata": {},
   "outputs": [
    {
     "ename": "TypeError",
     "evalue": "'dict' object is not callable",
     "output_type": "error",
     "traceback": [
      "\u001b[0;31m---------------------------------------------------------------------------\u001b[0m",
      "\u001b[0;31mTypeError\u001b[0m                                 Traceback (most recent call last)",
      "\u001b[0;32m<ipython-input-23-628ae14ed24e>\u001b[0m in \u001b[0;36m<module>\u001b[0;34m()\u001b[0m\n\u001b[1;32m      1\u001b[0m \u001b[0;31m# Create DataFrame to store info from API call\u001b[0m\u001b[0;34m\u001b[0m\u001b[0;34m\u001b[0m\u001b[0;34m\u001b[0m\u001b[0m\n\u001b[0;32m----> 2\u001b[0;31m \u001b[0mweather_df\u001b[0m \u001b[0;34m=\u001b[0m \u001b[0mpd\u001b[0m\u001b[0;34m.\u001b[0m\u001b[0mDataFrame\u001b[0m\u001b[0;34m(\u001b[0m\u001b[0;34m{\u001b[0m\u001b[0;34m'City'\u001b[0m\u001b[0;34m:\u001b[0m\u001b[0mcity_list\u001b[0m\u001b[0;34m,\u001b[0m \u001b[0;34m'Country'\u001b[0m\u001b[0;34m:\u001b[0m\u001b[0mcountry_list\u001b[0m\u001b[0;34m,\u001b[0m \u001b[0;34m'Latitude'\u001b[0m\u001b[0;34m:\u001b[0m\u001b[0;34m\"\"\u001b[0m \u001b[0;34m,\u001b[0m\u001b[0;34m'Longitude'\u001b[0m\u001b[0;34m:\u001b[0m\u001b[0;34m\"\"\u001b[0m\u001b[0;34m,\u001b[0m\u001b[0;34m'Max Temp (F)'\u001b[0m\u001b[0;34m:\u001b[0m\u001b[0;34m\"\"\u001b[0m\u001b[0;34m,\u001b[0m \u001b[0;34m'Humidity (%)'\u001b[0m\u001b[0;34m:\u001b[0m\u001b[0;34m\"\"\u001b[0m\u001b[0;34m,\u001b[0m \u001b[0;34m'Cloudiness (%)'\u001b[0m\u001b[0;34m:\u001b[0m\u001b[0;34m\"\"\u001b[0m\u001b[0;34m,\u001b[0m \u001b[0;34m'Wind Speed (mph)'\u001b[0m\u001b[0;34m:\u001b[0m\u001b[0;34m\"\"\u001b[0m\u001b[0;34m}\u001b[0m\u001b[0;34m)\u001b[0m\u001b[0;34m\u001b[0m\u001b[0;34m\u001b[0m\u001b[0m\n\u001b[0m\u001b[1;32m      3\u001b[0m \u001b[0mweather_df\u001b[0m\u001b[0;34m.\u001b[0m\u001b[0mhead\u001b[0m\u001b[0;34m(\u001b[0m\u001b[0;34m)\u001b[0m\u001b[0;34m\u001b[0m\u001b[0;34m\u001b[0m\u001b[0m\n",
      "\u001b[0;31mTypeError\u001b[0m: 'dict' object is not callable"
     ]
    }
   ],
   "source": [
    "# Create DataFrame to store info from API call\n",
    "weather_df = pd.DataFrame({'City':city_list, 'Country':country_list, 'Latitude':\"\" ,'Longitude':\"\",'Max Temp (F)':\"\", 'Humidity (%)':\"\", 'Cloudiness (%)':\"\", 'Wind Speed (mph)':\"\"})\n",
    "weather_df.head()"
   ]
  },
  {
   "cell_type": "markdown",
   "metadata": {},
   "source": [
    "# Run API Calls"
   ]
  },
  {
   "cell_type": "code",
   "execution_count": null,
   "metadata": {},
   "outputs": [],
   "source": [
    "# Show Base URL\n",
    "base_url = \"http://api.openweathermap.org/data/2.5/weather?units=imperial&q=\"\n",
    "\n",
    "# Initiate variable to count number of responses\n",
    "city_num = 1\n",
    "\n",
    "### Execute the API Calls for each city in our DataFrame ###\n",
    "\n",
    "# Print start of data retrieval log\n",
    "print(\"Data Retrieval Log: Start\")\n",
    "print(\"------------------------------------------\")\n",
    "\n",
    "# Initiate API Calls\n",
    "for index, row in weather_df.iterrows():\n",
    "    \n",
    "    # Assemble Query URL to make API Calls to\n",
    "    query_url = base_url + row['City'] + ', ' + row['Country'] + '&APPID=' + api_key\n",
    "    \n",
    "    # Generate responses for API Calls in JSON Format\n",
    "    response = requests.get(query_url).json()\n",
    "    \n",
    "    # Create Try/Except method to bypass missing cities\n",
    "    try:\n",
    "        \n",
    "        # Print data log for each city + city number as it's being processed\n",
    "        print(f'Currently Retrieving Data for {response[\"name\"]}, city #: {city_num}')\n",
    "        \n",
    "        # Append weather data into DataFrame\n",
    "        weather_df.loc = [index, 'Latitude'] = response['coord']['lat']\n",
    "        weather_df.loc = [index, 'Longitude'] = response['coord']['lng']\n",
    "        weather_df.loc = [index, 'Max Temp (F)'] = response['main']['temp_max']\n",
    "        weather_df.loc = [index, 'Humidity (%)'] = response['main']['humidity']\n",
    "        weather_df.loc = [index, 'Cloudiness (%)'] = response['clouds']['all']\n",
    "        weather_df.loc = [index, 'Wind Speed (mph)'] = response['wind']['speed']\n",
    "        \n",
    "        # Increase response count\n",
    "        city_num += 1\n",
    "        \n",
    "    except: (KeyError, IndexError):\n",
    "            \n",
    "            # Print error message\n",
    "            print(\"Data not found...But the code lives on!...\")\n",
    "            \n",
    "    # Set up limit on API Calls\n",
    "    if city_num == 59:\n",
    "        city_num = 1\n",
    "        time.sleep(70)\n",
    "        \n",
    "    \n"
   ]
  }
 ],
 "metadata": {
  "kernelspec": {
   "display_name": "Python 3",
   "language": "python",
   "name": "python3"
  },
  "language_info": {
   "codemirror_mode": {
    "name": "ipython",
    "version": 3
   },
   "file_extension": ".py",
   "mimetype": "text/x-python",
   "name": "python",
   "nbconvert_exporter": "python",
   "pygments_lexer": "ipython3",
   "version": "3.6.10"
  }
 },
 "nbformat": 4,
 "nbformat_minor": 4
}
