{
 "cells": [
  {
   "cell_type": "markdown",
   "metadata": {},
   "source": [
    "# Initial Toolkit Setup"
   ]
  },
  {
   "cell_type": "code",
   "execution_count": 10,
   "metadata": {},
   "outputs": [],
   "source": [
    "# Import Dependencies \n",
    "import requests\n",
    "import time\n",
    "import pandas as pd\n",
    "import matplotlib as plt\n",
    "import numpy as np\n",
    "\n",
    "# Import OpenWeatherMap API Key\n",
    "from config import api_key\n",
    "\n",
    "# Import Citipy Library\n",
    "from citipy import citipy\n",
    "\n",
    "# Create Target URL\n",
    "query_url = \"http://api.openweathermap.org/data/2.5/weather?appid={api_key}&units=imperial&q=\""
   ]
  },
  {
   "cell_type": "markdown",
   "metadata": {},
   "source": [
    "# Generate List of Global Cities for Analysis"
   ]
  },
  {
   "cell_type": "code",
   "execution_count": 11,
   "metadata": {},
   "outputs": [
    {
     "name": "stdout",
     "output_type": "stream",
     "text": [
      "523\n",
      "523\n"
     ]
    }
   ],
   "source": [
    "# Create lists to hold City Names, Country Names, and Coordinates(Lat/Lng)\n",
    "city_list = []\n",
    "country_list = []\n",
    "lat_lng_list = []\n",
    "\n",
    "# Create a set of random coordinates \n",
    "lat = np.random.uniform(low=-90, high=90, size=1200)\n",
    "lng = np.random.uniform(low=-180, high=180, size=1200)\n",
    "\n",
    "# Use the zip function to pair random lats and lngs\n",
    "lat_lng_list = zip(lat, lng)\n",
    "\n",
    "# Use Citipy Library to pair coordinates with nearby cities\n",
    "for lat_lng in lat_lng_list:\n",
    "    city = citipy.nearest_city(lat_lng[0], lat_lng[1]).city_name\n",
    "    country = citipy.nearest_city(lat_lng[0], lat_lng[1]).country_code\n",
    "    \n",
    "    # If the city is unique, add it to our list (@ top of the cell)\n",
    "    if city not in city_list:\n",
    "        city_list.append(city)\n",
    "        country_list.append(country)\n",
    "        \n",
    "# Print both the city and country lists to confirm sample size is >= 500\n",
    "# These values should be equal\n",
    "print(len(city_list))\n",
    "print(len(country_list))"
   ]
  },
  {
   "cell_type": "markdown",
   "metadata": {},
   "source": [
    "# Create DataFrame "
   ]
  },
  {
   "cell_type": "code",
   "execution_count": null,
   "metadata": {},
   "outputs": [],
   "source": []
  }
 ],
 "metadata": {
  "kernelspec": {
   "display_name": "Python 3",
   "language": "python",
   "name": "python3"
  },
  "language_info": {
   "codemirror_mode": {
    "name": "ipython",
    "version": 3
   },
   "file_extension": ".py",
   "mimetype": "text/x-python",
   "name": "python",
   "nbconvert_exporter": "python",
   "pygments_lexer": "ipython3",
   "version": "3.6.10"
  }
 },
 "nbformat": 4,
 "nbformat_minor": 4
}
